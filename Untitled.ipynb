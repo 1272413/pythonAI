{
 "cells": [
  {
   "cell_type": "code",
   "execution_count": 1,
   "id": "8ca7a8e6-857f-4452-9b1b-1a5e73164857",
   "metadata": {},
   "outputs": [],
   "source": [
    "import numpy as np"
   ]
  },
  {
   "cell_type": "markdown",
   "id": "9ad30f04-cca6-46a2-91f2-a0573529389f",
   "metadata": {},
   "source": [
    "##### create array"
   ]
  },
  {
   "cell_type": "code",
   "execution_count": 2,
   "id": "ca582e5b-6ae3-4a40-9326-5def1af00202",
   "metadata": {},
   "outputs": [],
   "source": [
    "x= np.array([25,44,89,56])"
   ]
  },
  {
   "cell_type": "code",
   "execution_count": 3,
   "id": "fb14ee36-bebf-46d5-9215-53dfa4f1fee3",
   "metadata": {},
   "outputs": [
    {
     "name": "stdout",
     "output_type": "stream",
     "text": [
      "[25 44 89 56]\n"
     ]
    }
   ],
   "source": [
    "print(x)"
   ]
  },
  {
   "cell_type": "code",
   "execution_count": 4,
   "id": "0def0964-82a6-4845-a8ab-f90930850b78",
   "metadata": {},
   "outputs": [
    {
     "data": {
      "text/plain": [
       "numpy.ndarray"
      ]
     },
     "execution_count": 4,
     "metadata": {},
     "output_type": "execute_result"
    }
   ],
   "source": [
    "type(x)"
   ]
  },
  {
   "cell_type": "code",
   "execution_count": 5,
   "id": "8e5abea0-4fd5-4c3e-8014-52e0895925f1",
   "metadata": {},
   "outputs": [
    {
     "data": {
      "text/plain": [
       "1"
      ]
     },
     "execution_count": 5,
     "metadata": {},
     "output_type": "execute_result"
    }
   ],
   "source": [
    "x.ndim"
   ]
  },
  {
   "cell_type": "code",
   "execution_count": null,
   "id": "9191ceb9-c32c-40d5-855f-fb65bf122e45",
   "metadata": {},
   "outputs": [],
   "source": []
  }
 ],
 "metadata": {
  "kernelspec": {
   "display_name": "Python 3 (ipykernel)",
   "language": "python",
   "name": "python3"
  },
  "language_info": {
   "codemirror_mode": {
    "name": "ipython",
    "version": 3
   },
   "file_extension": ".py",
   "mimetype": "text/x-python",
   "name": "python",
   "nbconvert_exporter": "python",
   "pygments_lexer": "ipython3",
   "version": "3.11.7"
  }
 },
 "nbformat": 4,
 "nbformat_minor": 5
}
