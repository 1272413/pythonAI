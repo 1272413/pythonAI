{
 "cells": [
  {
   "cell_type": "code",
   "execution_count": 1,
   "id": "31fbabd4-9582-4956-9f21-4518fbe17b74",
   "metadata": {},
   "outputs": [],
   "source": [
    "import cv2\n",
    "import numpy as np\n",
    "import matplotlib.pyplot as plt"
   ]
  },
  {
   "cell_type": "code",
   "execution_count": 4,
   "id": "96fc059d-93de-43d9-81fc-78ec7b3bb6d0",
   "metadata": {},
   "outputs": [],
   "source": [
    "image= cv2.imread('images/lenna.png')\n",
    "height, width= image.shape[:2]\n",
    "\n",
    "quarter_height,quarter_width=height/4,width/4\n",
    "\n",
    "T=np.float32([[1,0,quarter_width],[0,1,quarter_height]])\n",
    "img_translation= cv2.warpAffine(image,T,(width,height))\n"
   ]
  },
  {
   "cell_type": "code",
   "execution_count": 5,
   "id": "9885474d-133c-4a63-a2c4-19e4ae997884",
   "metadata": {},
   "outputs": [
    {
     "data": {
      "text/plain": [
       "array([[  1.,   0., 128.],\n",
       "       [  0.,   1., 128.]], dtype=float32)"
      ]
     },
     "execution_count": 5,
     "metadata": {},
     "output_type": "execute_result"
    }
   ],
   "source": [
    "T\n"
   ]
  },
  {
   "cell_type": "code",
   "execution_count": 6,
   "id": "6e07f582-549d-4cdd-a390-62d7ee62e61e",
   "metadata": {},
   "outputs": [],
   "source": [
    "cv2.imshow('original Image',image)\n",
    "cv2.imshow('Translated Image',img_translation)\n",
    "cv2.waitKey(0)\n",
    "cv2.destroyAllWindows()\n"
   ]
  },
  {
   "cell_type": "code",
   "execution_count": null,
   "id": "63d2bb25-bf1e-481b-992d-572fcf286420",
   "metadata": {},
   "outputs": [],
   "source": [
    "T=np.float32([[1,0,-40],[0,1,-100]])\n",
    "img_translation= cv2.warpAffine(image,T,(width,height))\n",
    "cv2.imshow('original Image',image)\n",
    "cv2.imshow('Translated Image',img_translation)\n",
    "cv2.waitKey(0)\n",
    "cv2.destroyAllWindows()\n"
   ]
  },
  {
   "cell_type": "code",
   "execution_count": null,
   "id": "7a850b9b-c39a-4961-afe6-c5a5d242e040",
   "metadata": {},
   "outputs": [],
   "source": [
    "\n",
    "\n"
   ]
  },
  {
   "cell_type": "code",
   "execution_count": null,
   "id": "02d432bc-8685-4e76-9a86-17c486e49d18",
   "metadata": {},
   "outputs": [],
   "source": []
  }
 ],
 "metadata": {
  "kernelspec": {
   "display_name": "Python 3 (ipykernel)",
   "language": "python",
   "name": "python3"
  },
  "language_info": {
   "codemirror_mode": {
    "name": "ipython",
    "version": 3
   },
   "file_extension": ".py",
   "mimetype": "text/x-python",
   "name": "python",
   "nbconvert_exporter": "python",
   "pygments_lexer": "ipython3",
   "version": "3.11.7"
  }
 },
 "nbformat": 4,
 "nbformat_minor": 5
}
