{
 "cells": [
  {
   "cell_type": "code",
   "execution_count": 5,
   "id": "771fc632-bb54-4a3d-b2a1-2290c6d641a4",
   "metadata": {},
   "outputs": [],
   "source": [
    "import cv2"
   ]
  },
  {
   "cell_type": "code",
   "execution_count": 6,
   "id": "6b1dcaa0-cd1a-4db6-a98d-23b10b1bb505",
   "metadata": {},
   "outputs": [],
   "source": [
    "import matplotlib.pyplot as plt"
   ]
  },
  {
   "cell_type": "code",
   "execution_count": 7,
   "id": "1ecf068c-7ee0-49f6-983e-c5fd01600e32",
   "metadata": {},
   "outputs": [],
   "source": [
    "img=cv2.imread('images/lenna.png')"
   ]
  },
  {
   "cell_type": "code",
   "execution_count": 8,
   "id": "21280802-7526-425e-8815-21fd8fa2951a",
   "metadata": {},
   "outputs": [
    {
     "data": {
      "text/plain": [
       "(512, 512, 3)"
      ]
     },
     "execution_count": 8,
     "metadata": {},
     "output_type": "execute_result"
    }
   ],
   "source": [
    "img.shape\n"
   ]
  },
  {
   "cell_type": "code",
   "execution_count": 12,
   "id": "5392446d-58b2-4b9b-923c-7b2b0318c062",
   "metadata": {},
   "outputs": [],
   "source": [
    "pix=img[234,279]\n"
   ]
  },
  {
   "cell_type": "code",
   "execution_count": 13,
   "id": "2e06cbb0-6fbe-4e76-bb61-465d0ad92194",
   "metadata": {},
   "outputs": [],
   "source": [
    "pix=pix.reshape(1,1,3)"
   ]
  },
  {
   "cell_type": "code",
   "execution_count": null,
   "id": "f0fa814b-5ff5-4b43-ab6c-4de8cddd858c",
   "metadata": {},
   "outputs": [],
   "source": [
    "\n",
    "plt.imshow(pix)"
   ]
  },
  {
   "cell_type": "code",
   "execution_count": null,
   "id": "a403fa46-c4cf-469e-8bdc-5ee5e85024fc",
   "metadata": {},
   "outputs": [],
   "source": [
    "cv2.imshow('Image',img)\n",
    "cv2.waitKey(0)\n",
    "cv2.destroyAlWindows()\n",
    "            "
   ]
  },
  {
   "cell_type": "code",
   "execution_count": null,
   "id": "66a6d4c8-de4c-4b1c-aefb-3c39a3e540fd",
   "metadata": {},
   "outputs": [],
   "source": [
    "plt.imshow(img)"
   ]
  },
  {
   "cell_type": "code",
   "execution_count": null,
   "id": "8e4e5b85-c920-40f2-87e3-8d18865e7bdc",
   "metadata": {},
   "outputs": [],
   "source": []
  }
 ],
 "metadata": {
  "kernelspec": {
   "display_name": "Python 3 (ipykernel)",
   "language": "python",
   "name": "python3"
  },
  "language_info": {
   "codemirror_mode": {
    "name": "ipython",
    "version": 3
   },
   "file_extension": ".py",
   "mimetype": "text/x-python",
   "name": "python",
   "nbconvert_exporter": "python",
   "pygments_lexer": "ipython3",
   "version": "3.11.7"
  }
 },
 "nbformat": 4,
 "nbformat_minor": 5
}
