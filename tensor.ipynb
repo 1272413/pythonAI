{
 "cells": [
  {
   "cell_type": "code",
   "execution_count": 3,
   "id": "e0b65e55-27ef-4906-ab1e-29eefa0302fb",
   "metadata": {},
   "outputs": [],
   "source": [
    "import tensorflow as tf"
   ]
  },
  {
   "cell_type": "code",
   "execution_count": 4,
   "id": "b612a1c8-155e-401b-b469-d7e5a1e2d913",
   "metadata": {},
   "outputs": [
    {
     "data": {
      "text/plain": [
       "<module 'tensorflow' from 'C:\\\\Users\\\\rajesh\\\\AppData\\\\Roaming\\\\Python\\\\Python311\\\\site-packages\\\\tensorflow\\\\__init__.py'>"
      ]
     },
     "execution_count": 4,
     "metadata": {},
     "output_type": "execute_result"
    }
   ],
   "source": [
    "tf"
   ]
  },
  {
   "cell_type": "code",
   "execution_count": null,
   "id": "79b41a9b-174c-416f-b7f5-5d9cda045bd8",
   "metadata": {},
   "outputs": [],
   "source": []
  },
  {
   "cell_type": "code",
   "execution_count": 13,
   "id": "67d9926e-6322-4ba5-85b6-17553bc683bc",
   "metadata": {},
   "outputs": [
    {
     "name": "stdout",
     "output_type": "stream",
     "text": [
      "a: tf.Tensor([1 2 3], shape=(3,), dtype=int32)\n",
      "b: tf.Tensor([4 5 6], shape=(3,), dtype=int32)\n"
     ]
    }
   ],
   "source": [
    "a = tf.constant([1,2,3])\n",
    "b = tf.constant([4,5,6])\n",
    "print('a:',a)\n",
    "print('b:',b)"
   ]
  },
  {
   "cell_type": "code",
   "execution_count": 18,
   "id": "c84eba3c-3d24-4442-a7b0-303805c5fb3d",
   "metadata": {},
   "outputs": [
    {
     "name": "stdout",
     "output_type": "stream",
     "text": [
      "x: tf.Tensor([1 2 3], shape=(3,), dtype=int32)\n",
      "y: tf.Tensor([4 5 6], shape=(3,), dtype=int32)\n"
     ]
    }
   ],
   "source": [
    "x = tf.constant((([1,2,3],[1,4,6],[3,5,6])))\n",
    "y= tf.constant([4,5,6])\n",
    "print('x:',a)\n",
    "print('y:',b)"
   ]
  },
  {
   "cell_type": "code",
   "execution_count": 20,
   "id": "5e629faa-f6db-4eca-8e45-1a4e43b04de6",
   "metadata": {},
   "outputs": [
    {
     "name": "stdout",
     "output_type": "stream",
     "text": [
      "sub tf.Tensor([-3 -3 -3], shape=(3,), dtype=int32)\n"
     ]
    }
   ],
   "source": [
    "d=tf.subtract(a,b)\n",
    "print(\"sub\",d)\n"
   ]
  },
  {
   "cell_type": "code",
   "execution_count": 21,
   "id": "6d8c27db-0748-4476-bbe0-e4a11c6ba0ac",
   "metadata": {},
   "outputs": [
    {
     "data": {
      "text/plain": [
       "<tf.Tensor: shape=(3,), dtype=int32, numpy=array([-3, -3, -3])>"
      ]
     },
     "execution_count": 21,
     "metadata": {},
     "output_type": "execute_result"
    }
   ],
   "source": [
    "a-b"
   ]
  },
  {
   "cell_type": "code",
   "execution_count": null,
   "id": "775f24d9-f4b1-481d-a055-d7140695904e",
   "metadata": {},
   "outputs": [],
   "source": []
  },
  {
   "cell_type": "code",
   "execution_count": 22,
   "id": "f858b1db-27b9-4de4-adde-3fdefb740aed",
   "metadata": {},
   "outputs": [
    {
     "data": {
      "text/plain": [
       "array([-3, -3, -3])"
      ]
     },
     "execution_count": 22,
     "metadata": {},
     "output_type": "execute_result"
    }
   ],
   "source": [
    "d.numpy()"
   ]
  },
  {
   "cell_type": "code",
   "execution_count": 23,
   "id": "e6bfbff4-86e2-4130-9529-f6c3f6c9f9cd",
   "metadata": {},
   "outputs": [],
   "source": [
    "f=tf.divide(a,b)"
   ]
  },
  {
   "cell_type": "code",
   "execution_count": 24,
   "id": "d96ec8be-e766-4146-9dc9-f110efa465f6",
   "metadata": {},
   "outputs": [
    {
     "name": "stdout",
     "output_type": "stream",
     "text": [
      "divid tf.Tensor([0.25 0.4  0.5 ], shape=(3,), dtype=float64)\n"
     ]
    }
   ],
   "source": [
    "print('divid',f)"
   ]
  },
  {
   "cell_type": "code",
   "execution_count": 25,
   "id": "5abd6a5f-a097-4b20-a418-ed5c106ec6dd",
   "metadata": {},
   "outputs": [
    {
     "data": {
      "text/plain": [
       "<tf.Tensor: shape=(3,), dtype=float64, numpy=array([0.25, 0.4 , 0.5 ])>"
      ]
     },
     "execution_count": 25,
     "metadata": {},
     "output_type": "execute_result"
    }
   ],
   "source": [
    "a/b"
   ]
  },
  {
   "cell_type": "code",
   "execution_count": 26,
   "id": "8ba5a518-1e6a-43db-8876-d2e1d1a99b87",
   "metadata": {},
   "outputs": [
    {
     "data": {
      "text/plain": [
       "<tf.Tensor: shape=(3,), dtype=float64, numpy=array([4. , 2.5, 2. ])>"
      ]
     },
     "execution_count": 26,
     "metadata": {},
     "output_type": "execute_result"
    }
   ],
   "source": [
    "b/a"
   ]
  },
  {
   "cell_type": "code",
   "execution_count": 28,
   "id": "fb265e8b-c1ac-41fa-b2c7-c58dcf42d995",
   "metadata": {},
   "outputs": [
    {
     "name": "stdout",
     "output_type": "stream",
     "text": [
      "matrix multi tf.Tensor(\n",
      "[[18 40]\n",
      " [33 72]], shape=(2, 2), dtype=int32)\n"
     ]
    }
   ],
   "source": [
    "a_matrix=tf.constant(([2,3],[3,6]))\n",
    "b_matrix=tf.constant(([3,8],[4,8]))\n",
    "g=tf.matmul(a_matrix,b_matrix)\n",
    "print('matrix multi',g)"
   ]
  },
  {
   "cell_type": "code",
   "execution_count": null,
   "id": "071524e7-911b-4828-898a-d58244ceefa7",
   "metadata": {},
   "outputs": [],
   "source": []
  }
 ],
 "metadata": {
  "kernelspec": {
   "display_name": "Python 3 (ipykernel)",
   "language": "python",
   "name": "python3"
  },
  "language_info": {
   "codemirror_mode": {
    "name": "ipython",
    "version": 3
   },
   "file_extension": ".py",
   "mimetype": "text/x-python",
   "name": "python",
   "nbconvert_exporter": "python",
   "pygments_lexer": "ipython3",
   "version": "3.11.7"
  }
 },
 "nbformat": 4,
 "nbformat_minor": 5
}
